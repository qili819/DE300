{
 "cells": [
  {
   "cell_type": "code",
   "execution_count": 1,
   "id": "ca03a649-3dcf-472c-a771-49ccdf33dab4",
   "metadata": {},
   "outputs": [],
   "source": [
    "from pyspark.sql import SparkSession\n",
    "from pyspark.sql.types import StructType, StructField, IntegerType, StringType, FloatType\n",
    "from pyspark.sql.dataframe import DataFrame\n",
    "from pyspark.sql.functions import col, when, isnan, isnull, count, avg, trim\n",
    "import os\n",
    "import pandas as pd"
   ]
  },
  {
   "cell_type": "code",
   "execution_count": null,
   "id": "f476b024-a1b4-4185-9852-8861159693a2",
   "metadata": {},
   "outputs": [],
   "source": []
  },
  {
   "cell_type": "code",
   "execution_count": 2,
   "id": "f71c5482-1d34-4189-87e0-844e238e1f6b",
   "metadata": {},
   "outputs": [],
   "source": [
    "DATA_FOLDER = \"data\"\n",
    "# source https://www.statista.com/statistics/242030/marital-status-of-the-us-population-by-sex/\n",
    "# the first value is male and the second is for female\n",
    "MARITAL_STATUS_BY_GENDER = [\n",
    "    [\"Never-married\", 47.35, 41.81],\n",
    "    [\"Married-AF-spouse\", 67.54, 68.33],\n",
    "    [\"Widowed\", 3.58, 11.61],\n",
    "    [\"Divorced\", 10.82, 15.09]\n",
    "]\n",
    "MARITAL_STATUS_BY_GENDER_COLUMNS = [\"marital_status_statistics\", \"male\", \"female\"]"
   ]
  },
  {
   "cell_type": "code",
   "execution_count": null,
   "id": "46c3d901-2fef-449f-88ee-bc8f3e8e3ec2",
   "metadata": {},
   "outputs": [],
   "source": []
  },
  {
   "cell_type": "code",
   "execution_count": 3,
   "id": "f1a99991-868e-4b28-bb09-5b447a2d39be",
   "metadata": {},
   "outputs": [],
   "source": [
    "\n",
    "\n",
    "\n",
    "\n",
    "def read_data(spark: SparkSession) -> DataFrame:\n",
    "    \"\"\"\n",
    "    read data based on the given schema; this is much faster than spark determining the schema\n",
    "    \"\"\"\n",
    "    \n",
    "    # Define the schema for the dataset\n",
    "    schema = StructType([\n",
    "        StructField(\"age\", IntegerType(), True),\n",
    "        StructField(\"workclass\", StringType(), True),\n",
    "        StructField(\"fnlwgt\", FloatType(), True),\n",
    "        StructField(\"education\", StringType(), True),\n",
    "        StructField(\"education_num\", FloatType(), True),\n",
    "        StructField(\"marital_status\", StringType(), True),\n",
    "        StructField(\"occupation\", StringType(), True),\n",
    "        StructField(\"relationship\", StringType(), True),\n",
    "        StructField(\"race\", StringType(), True),\n",
    "        StructField(\"sex\", StringType(), True),\n",
    "        StructField(\"capital_gain\", FloatType(), True),\n",
    "        StructField(\"capital_loss\", FloatType(), True),\n",
    "        StructField(\"hours_per_week\", FloatType(), True),\n",
    "        StructField(\"native_country\", StringType(), True),\n",
    "        StructField(\"income\", StringType(), True)\n",
    "    ])\n",
    "\n",
    "    # Read the dataset\n",
    "    data = spark.read \\\n",
    "        .schema(schema) \\\n",
    "        .option(\"header\", \"false\") \\\n",
    "        .option(\"inferSchema\", \"false\") \\\n",
    "        .csv(os.path.join(DATA_FOLDER,\"*.csv\")) \n",
    "\n",
    "    data = data.repartition(8)\n",
    "\n",
    "    float_columns = [f.name for f in data.schema.fields if isinstance(f.dataType, FloatType)]\n",
    "    for v in float_columns:\n",
    "        data = data.withColumn(v, data[v].cast(IntegerType()))\n",
    "\n",
    "    # Get the names of all StringType columns\n",
    "    string_columns = [f.name for f in data.schema.fields if isinstance(f.dataType, StringType)]\n",
    "\n",
    "    # Remove leading and trailing spaces in all string columns\n",
    "    for column in string_columns:\n",
    "        data = data.withColumn(column, trim(data[column]))\n",
    "\n",
    "    # Show the first 5 rows of the dataset\n",
    "    data.show(5)\n",
    "\n",
    "    return data\n"
   ]
  },
  {
   "cell_type": "code",
   "execution_count": 4,
   "id": "2db108d9-43b4-454e-b733-8cfe77b1adea",
   "metadata": {},
   "outputs": [],
   "source": [
    "\n",
    "def missing_values(data: DataFrame) -> DataFrame:\n",
    "    \"\"\"\n",
    "    count the number of samples with missing values for each row\n",
    "    remove such samples\n",
    "    \"\"\"\n",
    "\n",
    "    missing_values = data.select([count(when(isnan(c) | isnull(c), c)).alias(c) for c in data.columns])\n",
    "\n",
    "    # Show the missing values count per column\n",
    "    missing_values.show()\n",
    "\n",
    "    # Get the number of samples in the DataFrame\n",
    "    num_samples = data.count()\n",
    "\n",
    "    # Print the number of samples\n",
    "    print(\"Number of samples:\", num_samples)  \n",
    "\n",
    "    data = data.dropna()      \n",
    "    \n",
    "    return data\n",
    "\n"
   ]
  },
  {
   "cell_type": "code",
   "execution_count": 4,
   "id": "46e79575-66a3-40dc-8729-c141de74946e",
   "metadata": {},
   "outputs": [],
   "source": [
    "def feature_engineering(data: DataFrame) -> DataFrame:\n",
    "    \"\"\"\n",
    "    calculate the product of each pair of integer features\n",
    "    \"\"\"\n",
    "\n",
    "    # Create columns consisting of all products of columns of type IntegerType\n",
    "    integer_columns = [f.name for f in data.schema.fields if isinstance(f.dataType, IntegerType)]\n",
    "    for i, col1 in enumerate(integer_columns):\n",
    "        for col2 in integer_columns[i:]:\n",
    "            product_col_name = f\"{col1}_x_{col2}\"\n",
    "            data = data.withColumn(product_col_name, col(col1) * col(col2))\n",
    "\n",
    "    data.show(5)\n",
    "\n",
    "    return data\n",
    "\n",
    "def bias_marital_status(data: DataFrame):\n",
    "    \"\"\"\n",
    "    is there bias in capital gain by marital status\n",
    "    \"\"\"\n",
    "\n",
    "    # Calculate the average capital_gain by marital_status\n",
    "    average_capital_gain = data.groupBy(\"marital_status\").agg(avg(\"capital_gain\").alias(\"average_capital_gain\"))\n",
    "\n",
    "    # Show the average capital_gain by marital_status\n",
    "    average_capital_gain.show()\n",
    "\n",
    "    # Filter data based on marital_status = Divorced\n",
    "    divorced_data = data.filter(data.marital_status == \"Divorced\")\n",
    "\n",
    "    # Show the first 5 rows of the filtered DataFrame\n",
    "    divorced_data.show(5)\n",
    "\n",
    "def join_with_US_gender(spark: SparkSession, data: DataFrame):\n",
    "    \"\"\"\n",
    "    join with respect to the marital_status\n",
    "    \"\"\"\n",
    "\n",
    "    # create a data frame from new data\n",
    "    columns = [\"dept_name\",\"dept_id\"]\n",
    "    us_df = spark.createDataFrame(MARITAL_STATUS_BY_GENDER, MARITAL_STATUS_BY_GENDER_COLUMNS)\n",
    "\n",
    "    return data.join(us_df, data.marital_status == us_df.marital_status_statistics, 'outer')\n",
    "\n",
    "def main():\n",
    "    # Create a Spark session\n",
    "    spark = SparkSession.builder \\\n",
    "        .appName(\"Read Adult Dataset\") \\\n",
    "        .getOrCreate()\n",
    "\n",
    "    data = read_data(spark)\n",
    "    # perform basic EDA - count missing values\n",
    "    data = missing_values(data)\n",
    "    data = feature_engineering(data)\n",
    "    bias_marital_status(data)\n",
    "    data = join_with_US_gender(spark, data)\n",
    "\n",
    "    \n",
    "    \n",
    "    data.show(5)\n",
    "    data.write.format('csv').option('header', 'true').mode('overwrite').save('saved.csv')\n",
    "    #spark.stop()\n",
    "    #return data\n"
   ]
  },
  {
   "cell_type": "code",
   "execution_count": null,
   "id": "f5914805-6415-4866-a4ee-17280c6c94cd",
   "metadata": {},
   "outputs": [],
   "source": [
    "def bias_marital_status(data: DataFrame):\n",
    "    \"\"\"\n",
    "    is there bias in capital gain by marital status\n",
    "    \"\"\"\n",
    "\n",
    "    # Calculate the average capital_gain by marital_status\n",
    "    average_capital_gain = data.groupBy(\"marital_status\").agg(avg(\"capital_gain\").alias(\"average_capital_gain\"))\n",
    "\n",
    "    # Show the average capital_gain by marital_status\n",
    "    average_capital_gain.show()\n",
    "\n",
    "    # Filter data based on marital_status = Divorced\n",
    "    divorced_data = data.filter(data.marital_status == \"Divorced\")\n",
    "\n",
    "    # Show the first 5 rows of the filtered DataFrame\n",
    "    divorced_data.show(5)\n",
    "\n"
   ]
  },
  {
   "cell_type": "code",
   "execution_count": 5,
   "id": "40de6a60-dd21-44f9-a003-a2eab84f7952",
   "metadata": {},
   "outputs": [],
   "source": [
    "def join_with_US_gender(spark: SparkSession, data: DataFrame):\n",
    "    \"\"\"\n",
    "    join with respect to the marital_status\n",
    "    \"\"\"\n",
    "\n",
    "    # create a data frame from new data\n",
    "    columns = [\"dept_name\",\"dept_id\"]\n",
    "    us_df = spark.createDataFrame(MARITAL_STATUS_BY_GENDER, MARITAL_STATUS_BY_GENDER_COLUMNS)\n",
    "\n",
    "    return data.join(us_df, data.marital_status == us_df.marital_status_statistics, 'outer')\n",
    "\n"
   ]
  },
  {
   "cell_type": "code",
   "execution_count": 6,
   "id": "0acefd50-5ded-478d-b4ee-63ee733f6a0c",
   "metadata": {},
   "outputs": [],
   "source": [
    "def select_age(data: DataFrame):\n",
    "    \"\"\"\n",
    "    select rows with ages 30-50\n",
    "    \"\"\"\n",
    "    # Filter the DataFrame to include only rows where age is between 30 and 50 inclusive\n",
    "    filtered_data = data.filter((data.age >= 30) & (data.age <= 50))\n",
    "    \n",
    "    # Convert the PySpark DataFrame to a Pandas DataFrame\n",
    "    pandas_df = filtered_data.toPandas()\n",
    "    \n",
    "    # Print the summary statistics of the Pandas DataFrame\n",
    "    print(pandas_df.describe())\n",
    "    \n",
    "    "
   ]
  },
  {
   "cell_type": "code",
   "execution_count": 8,
   "id": "efe19e6a-0a5e-4c4f-9585-fe7f39e3dd0c",
   "metadata": {},
   "outputs": [
    {
     "name": "stderr",
     "output_type": "stream",
     "text": [
      "Setting default log level to \"WARN\".\n",
      "To adjust logging level use sc.setLogLevel(newLevel). For SparkR, use setLogLevel(newLevel).\n",
      "24/05/15 02:40:56 WARN NativeCodeLoader: Unable to load native-hadoop library for your platform... using builtin-java classes where applicable\n",
      "[Stage 0:>                                                          (0 + 1) / 1]\r"
     ]
    },
    {
     "name": "stdout",
     "output_type": "stream",
     "text": [
      "+---+---------+------+------------+-------------+------------------+---------------+------------+------------------+------+------------+------------+--------------+--------------+------+\n",
      "|age|workclass|fnlwgt|   education|education_num|    marital_status|     occupation|relationship|              race|   sex|capital_gain|capital_loss|hours_per_week|native_country|income|\n",
      "+---+---------+------+------------+-------------+------------------+---------------+------------+------------------+------+------------+------------+--------------+--------------+------+\n",
      "| 45|  Private|191098|   Bachelors|           13|Married-civ-spouse| Prof-specialty|     Husband|Asian-Pac-Islander|  Male|           0|           0|            40|         China| <=50K|\n",
      "| 46|  Private|250821| Prof-school|           15|          Divorced|Farming-fishing|   Unmarried|             White|  Male|           0|           0|            48| United-States| <=50K|\n",
      "| 53|  Private|242859|Some-college|           10|         Separated|   Adm-clerical|   Own-child|             White|  Male|           0|           0|            40|          Cuba| <=50K|\n",
      "| 30|  Private| 54929|     HS-grad|            9|Married-civ-spouse|          Sales|     Husband|             White|  Male|           0|           0|            55| United-States| <=50K|\n",
      "| 31|  Private|234500|   Bachelors|           13|Married-civ-spouse|   Adm-clerical|        Wife|             White|Female|           0|           0|            40| United-States| <=50K|\n",
      "+---+---------+------+------------+-------------+------------------+---------------+------------+------------------+------+------------+------------+--------------+--------------+------+\n",
      "only showing top 5 rows\n",
      "\n"
     ]
    },
    {
     "name": "stderr",
     "output_type": "stream",
     "text": [
      "                                                                                \r"
     ]
    }
   ],
   "source": [
    "spark = SparkSession.builder \\\n",
    "        .appName(\"Read Adult Dataset\") \\\n",
    "        .getOrCreate()\n",
    "\n",
    "data = read_data(spark)"
   ]
  },
  {
   "cell_type": "code",
   "execution_count": 8,
   "id": "7ead504b-072e-4181-a03d-35a8d60115b8",
   "metadata": {},
   "outputs": [
    {
     "name": "stderr",
     "output_type": "stream",
     "text": [
      "                                                                                \r"
     ]
    },
    {
     "name": "stdout",
     "output_type": "stream",
     "text": [
      "+---+---------+------+------------+-------------+------------------+---------------+------------+------------------+------+------------+------------+--------------+--------------+------+\n",
      "|age|workclass|fnlwgt|   education|education_num|    marital_status|     occupation|relationship|              race|   sex|capital_gain|capital_loss|hours_per_week|native_country|income|\n",
      "+---+---------+------+------------+-------------+------------------+---------------+------------+------------------+------+------------+------------+--------------+--------------+------+\n",
      "| 45|  Private|191098|   Bachelors|           13|Married-civ-spouse| Prof-specialty|     Husband|Asian-Pac-Islander|  Male|           0|           0|            40|         China| <=50K|\n",
      "| 46|  Private|250821| Prof-school|           15|          Divorced|Farming-fishing|   Unmarried|             White|  Male|           0|           0|            48| United-States| <=50K|\n",
      "| 53|  Private|242859|Some-college|           10|         Separated|   Adm-clerical|   Own-child|             White|  Male|           0|           0|            40|          Cuba| <=50K|\n",
      "| 30|  Private| 54929|     HS-grad|            9|Married-civ-spouse|          Sales|     Husband|             White|  Male|           0|           0|            55| United-States| <=50K|\n",
      "| 31|  Private|234500|   Bachelors|           13|Married-civ-spouse|   Adm-clerical|        Wife|             White|Female|           0|           0|            40| United-States| <=50K|\n",
      "+---+---------+------+------------+-------------+------------------+---------------+------------+------------------+------+------------+------------+--------------+--------------+------+\n",
      "only showing top 5 rows\n",
      "\n"
     ]
    }
   ],
   "source": [
    "data = read_data(spark)"
   ]
  },
  {
   "cell_type": "code",
   "execution_count": 11,
   "id": "6de0d96b-0870-49f1-b9dd-560d6dc69be0",
   "metadata": {},
   "outputs": [
    {
     "name": "stderr",
     "output_type": "stream",
     "text": [
      "                                                                                \r"
     ]
    },
    {
     "name": "stdout",
     "output_type": "stream",
     "text": [
      "+---+---------+------+---------+-------------+--------------+----------+------------+----+---+------------+------------+--------------+--------------+------+\n",
      "|age|workclass|fnlwgt|education|education_num|marital_status|occupation|relationship|race|sex|capital_gain|capital_loss|hours_per_week|native_country|income|\n",
      "+---+---------+------+---------+-------------+--------------+----------+------------+----+---+------------+------------+--------------+--------------+------+\n",
      "|  0|        0|     0|        0|            0|             0|         0|           0|   0|  0|           0|           0|             0|             0|     0|\n",
      "+---+---------+------+---------+-------------+--------------+----------+------------+----+---+------------+------------+--------------+--------------+------+\n",
      "\n",
      "Number of samples: 32561\n"
     ]
    }
   ],
   "source": [
    "data = missing_values(data)"
   ]
  },
  {
   "cell_type": "code",
   "execution_count": 12,
   "id": "d5aa850b-8d1f-44f7-8a0c-35feb1f48513",
   "metadata": {},
   "outputs": [
    {
     "name": "stderr",
     "output_type": "stream",
     "text": [
      "24/05/15 02:15:55 WARN package: Truncated the string representation of a plan since it was too large. This behavior can be adjusted by setting 'spark.sql.debug.maxToStringFields'.\n"
     ]
    },
    {
     "name": "stdout",
     "output_type": "stream",
     "text": [
      "+---+---------+------+------------+-------------+------------------+---------------+------------+------------------+------+------------+------------+--------------+--------------+------+---------+------------+-------------------+------------------+------------------+--------------------+---------------+----------------------+---------------------+---------------------+-----------------------+-----------------------------+----------------------------+----------------------------+------------------------------+---------------------------+---------------------------+-----------------------------+---------------------------+-----------------------------+-------------------------------+\n",
      "|age|workclass|fnlwgt|   education|education_num|    marital_status|     occupation|relationship|              race|   sex|capital_gain|capital_loss|hours_per_week|native_country|income|age_x_age|age_x_fnlwgt|age_x_education_num|age_x_capital_gain|age_x_capital_loss|age_x_hours_per_week|fnlwgt_x_fnlwgt|fnlwgt_x_education_num|fnlwgt_x_capital_gain|fnlwgt_x_capital_loss|fnlwgt_x_hours_per_week|education_num_x_education_num|education_num_x_capital_gain|education_num_x_capital_loss|education_num_x_hours_per_week|capital_gain_x_capital_gain|capital_gain_x_capital_loss|capital_gain_x_hours_per_week|capital_loss_x_capital_loss|capital_loss_x_hours_per_week|hours_per_week_x_hours_per_week|\n",
      "+---+---------+------+------------+-------------+------------------+---------------+------------+------------------+------+------------+------------+--------------+--------------+------+---------+------------+-------------------+------------------+------------------+--------------------+---------------+----------------------+---------------------+---------------------+-----------------------+-----------------------------+----------------------------+----------------------------+------------------------------+---------------------------+---------------------------+-----------------------------+---------------------------+-----------------------------+-------------------------------+\n",
      "| 45|  Private|191098|   Bachelors|           13|Married-civ-spouse| Prof-specialty|     Husband|Asian-Pac-Islander|  Male|           0|           0|            40|         China| <=50K|     2025|     8599410|                585|                 0|                 0|                1800|    -2136260060|               2484274|                    0|                    0|                7643920|                          169|                           0|                           0|                           520|                          0|                          0|                            0|                          0|                            0|                           1600|\n",
      "| 46|  Private|250821| Prof-school|           15|          Divorced|Farming-fishing|   Unmarried|             White|  Male|           0|           0|            48| United-States| <=50K|     2116|    11537766|                690|                 0|                 0|                2208|    -1513335399|               3762315|                    0|                    0|               12039408|                          225|                           0|                           0|                           720|                          0|                          0|                            0|                          0|                            0|                           2304|\n",
      "| 53|  Private|242859|Some-college|           10|         Separated|   Adm-clerical|   Own-child|             White|  Male|           0|           0|            40|          Cuba| <=50K|     2809|    12871527|                530|                 0|                 0|                2120|    -1149048263|               2428590|                    0|                    0|                9714360|                          100|                           0|                           0|                           400|                          0|                          0|                            0|                          0|                            0|                           1600|\n",
      "| 30|  Private| 54929|     HS-grad|            9|Married-civ-spouse|          Sales|     Husband|             White|  Male|           0|           0|            55| United-States| <=50K|      900|     1647870|                270|                 0|                 0|                1650|    -1277772255|                494361|                    0|                    0|                3021095|                           81|                           0|                           0|                           495|                          0|                          0|                            0|                          0|                            0|                           3025|\n",
      "| 31|  Private|234500|   Bachelors|           13|Married-civ-spouse|   Adm-clerical|        Wife|             White|Female|           0|           0|            40| United-States| <=50K|      961|     7269500|                403|                 0|                 0|                1240|     -844324848|               3048500|                    0|                    0|                9380000|                          169|                           0|                           0|                           520|                          0|                          0|                            0|                          0|                            0|                           1600|\n",
      "+---+---------+------+------------+-------------+------------------+---------------+------------+------------------+------+------------+------------+--------------+--------------+------+---------+------------+-------------------+------------------+------------------+--------------------+---------------+----------------------+---------------------+---------------------+-----------------------+-----------------------------+----------------------------+----------------------------+------------------------------+---------------------------+---------------------------+-----------------------------+---------------------------+-----------------------------+-------------------------------+\n",
      "only showing top 5 rows\n",
      "\n"
     ]
    }
   ],
   "source": [
    "data = feature_engineering(data)"
   ]
  },
  {
   "cell_type": "code",
   "execution_count": 13,
   "id": "97b84214-97c0-4c9e-9155-118f594cc78c",
   "metadata": {},
   "outputs": [
    {
     "name": "stderr",
     "output_type": "stream",
     "text": [
      "                                                                                \r"
     ]
    },
    {
     "name": "stdout",
     "output_type": "stream",
     "text": [
      "+--------------------+--------------------+\n",
      "|      marital_status|average_capital_gain|\n",
      "+--------------------+--------------------+\n",
      "|           Separated|   535.5687804878049|\n",
      "|       Never-married|  376.58831788823363|\n",
      "|Married-spouse-ab...|   653.9832535885167|\n",
      "|            Divorced|   728.4148098131893|\n",
      "|             Widowed|   571.0715005035247|\n",
      "|   Married-AF-spouse|   432.6521739130435|\n",
      "|  Married-civ-spouse|  1764.8595085470085|\n",
      "+--------------------+--------------------+\n",
      "\n",
      "+---+---------+------+------------+-------------+--------------+---------------+--------------+-----+------+------------+------------+--------------+--------------+------+---------+------------+-------------------+------------------+------------------+--------------------+---------------+----------------------+---------------------+---------------------+-----------------------+-----------------------------+----------------------------+----------------------------+------------------------------+---------------------------+---------------------------+-----------------------------+---------------------------+-----------------------------+-------------------------------+\n",
      "|age|workclass|fnlwgt|   education|education_num|marital_status|     occupation|  relationship| race|   sex|capital_gain|capital_loss|hours_per_week|native_country|income|age_x_age|age_x_fnlwgt|age_x_education_num|age_x_capital_gain|age_x_capital_loss|age_x_hours_per_week|fnlwgt_x_fnlwgt|fnlwgt_x_education_num|fnlwgt_x_capital_gain|fnlwgt_x_capital_loss|fnlwgt_x_hours_per_week|education_num_x_education_num|education_num_x_capital_gain|education_num_x_capital_loss|education_num_x_hours_per_week|capital_gain_x_capital_gain|capital_gain_x_capital_loss|capital_gain_x_hours_per_week|capital_loss_x_capital_loss|capital_loss_x_hours_per_week|hours_per_week_x_hours_per_week|\n",
      "+---+---------+------+------------+-------------+--------------+---------------+--------------+-----+------+------------+------------+--------------+--------------+------+---------+------------+-------------------+------------------+------------------+--------------------+---------------+----------------------+---------------------+---------------------+-----------------------+-----------------------------+----------------------------+----------------------------+------------------------------+---------------------------+---------------------------+-----------------------------+---------------------------+-----------------------------+-------------------------------+\n",
      "| 36|  Private|353524|     HS-grad|            9|      Divorced|Exec-managerial|     Own-child|White|Female|        1831|           0|            40| United-States| <=50K|     1296|    12726864|                324|             65916|                 0|                1440|      425166992|               3181716|            647302444|                    0|               14140960|                           81|                       16479|                           0|                           360|                    3352561|                          0|                        73240|                          0|                            0|                           1600|\n",
      "| 41|  Private|144947|   Bachelors|           13|      Divorced|Exec-managerial|     Unmarried|Black|Female|           0|           0|            40| United-States| <=50K|     1681|     5942827|                533|                 0|                 0|                1640|     -465203671|               1884311|                    0|                    0|                5797880|                          169|                           0|                           0|                           520|                          0|                          0|                            0|                          0|                            0|                           1600|\n",
      "| 49|  Private| 97883|   Bachelors|           13|      Divorced|Exec-managerial|     Unmarried|White|Female|           0|           0|            40| United-States| <=50K|     2401|     4796267|                637|                 0|                 0|                1960|      991147097|               1272479|                    0|                    0|                3915320|                          169|                           0|                           0|                           520|                          0|                          0|                            0|                          0|                            0|                           1600|\n",
      "| 43|  Private|271807|Some-college|           10|      Divorced|   Craft-repair| Not-in-family|White|  Male|           0|           0|            40| United-States| <=50K|     1849|    11687701|                430|                 0|                 0|                1720|      864601217|               2718070|                    0|                    0|               10872280|                          100|                           0|                           0|                           400|                          0|                          0|                            0|                          0|                            0|                           1600|\n",
      "| 22|        ?|313786|     HS-grad|            9|      Divorced|              ?|Other-relative|Black|Female|           0|           0|            40| United-States| <=50K|      484|     6903292|                198|                 0|                 0|                 880|     -322594012|               2824074|                    0|                    0|               12551440|                           81|                           0|                           0|                           360|                          0|                          0|                            0|                          0|                            0|                           1600|\n",
      "+---+---------+------+------------+-------------+--------------+---------------+--------------+-----+------+------------+------------+--------------+--------------+------+---------+------------+-------------------+------------------+------------------+--------------------+---------------+----------------------+---------------------+---------------------+-----------------------+-----------------------------+----------------------------+----------------------------+------------------------------+---------------------------+---------------------------+-----------------------------+---------------------------+-----------------------------+-------------------------------+\n",
      "only showing top 5 rows\n",
      "\n"
     ]
    }
   ],
   "source": [
    "bias_marital_status(data)"
   ]
  },
  {
   "cell_type": "code",
   "execution_count": 9,
   "id": "09ebc050-4121-4ea0-9493-48b5ad8b1eb5",
   "metadata": {},
   "outputs": [
    {
     "name": "stderr",
     "output_type": "stream",
     "text": [
      "                                                                                \r"
     ]
    },
    {
     "name": "stdout",
     "output_type": "stream",
     "text": [
      "                age        fnlwgt  education_num  capital_gain  capital_loss  \\\n",
      "count  16390.000000  1.639000e+04   16390.000000  16390.000000  16390.000000   \n",
      "mean      39.298109  1.895854e+05      10.434655   1296.275595    102.861928   \n",
      "std        5.895005  1.068750e+05       2.522236   8181.593110    432.962380   \n",
      "min       30.000000  1.487800e+04       1.000000      0.000000      0.000000   \n",
      "25%       34.000000  1.169285e+05       9.000000      0.000000      0.000000   \n",
      "50%       39.000000  1.778765e+05      10.000000      0.000000      0.000000   \n",
      "75%       44.000000  2.364150e+05      13.000000      0.000000      0.000000   \n",
      "max       50.000000  1.455435e+06      16.000000  99999.000000   3900.000000   \n",
      "\n",
      "       hours_per_week  \n",
      "count    16390.000000  \n",
      "mean        43.261440  \n",
      "std         10.885127  \n",
      "min          1.000000  \n",
      "25%         40.000000  \n",
      "50%         40.000000  \n",
      "75%         48.000000  \n",
      "max         99.000000  \n"
     ]
    }
   ],
   "source": [
    "age = select_age(data)"
   ]
  },
  {
   "cell_type": "code",
   "execution_count": 15,
   "id": "87f12a7d-6627-45c2-9ba6-dfb6a68ad956",
   "metadata": {},
   "outputs": [],
   "source": [
    "data = join_with_US_gender(spark, data)"
   ]
  },
  {
   "cell_type": "code",
   "execution_count": null,
   "id": "46e7a54d-9966-4a1b-9cca-b3026acd8029",
   "metadata": {},
   "outputs": [],
   "source": []
  },
  {
   "cell_type": "code",
   "execution_count": 16,
   "id": "70bf7a36-a0c5-4a55-b89d-50aa712f6ece",
   "metadata": {},
   "outputs": [],
   "source": [
    "def main():\n",
    "    # Create a Spark session\n",
    "    spark = SparkSession.builder \\\n",
    "        .appName(\"Read Adult Dataset\") \\\n",
    "        .getOrCreate() \n",
    "\n",
    "    data = read_data(spark)\n",
    "    # perform basic EDA - count missing values\n",
    "    data = missing_values(data)\n",
    "    data = feature_engineering(data)\n",
    "    bias_marital_status(data)\n",
    "    data = join_with_US_gender(spark, data)\n",
    "\n",
    "    \n",
    "    \n",
    "    data.show(5)\n",
    "    spark.stop()\n"
   ]
  },
  {
   "cell_type": "code",
   "execution_count": null,
   "id": "5f7ff29f-d6c9-4ed0-af3f-9cecbddfa6ab",
   "metadata": {},
   "outputs": [],
   "source": []
  }
 ],
 "metadata": {
  "kernelspec": {
   "display_name": "Python 3 (ipykernel)",
   "language": "python",
   "name": "python3"
  },
  "language_info": {
   "codemirror_mode": {
    "name": "ipython",
    "version": 3
   },
   "file_extension": ".py",
   "mimetype": "text/x-python",
   "name": "python",
   "nbconvert_exporter": "python",
   "pygments_lexer": "ipython3",
   "version": "3.10.12"
  }
 },
 "nbformat": 4,
 "nbformat_minor": 5
}
